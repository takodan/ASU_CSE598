{
 "cells": [
  {
   "cell_type": "code",
   "execution_count": 6,
   "metadata": {},
   "outputs": [
    {
     "name": "stdout",
     "output_type": "stream",
     "text": [
      "***INPUT: http://localhost:5000\n",
      "***RESPONSE: <Response [200]>\n",
      "***BODY: This Web page tests a Python service which takes a number and return its absolute value.\n",
      "\n",
      "Url  E.g. http://localhost:4449/\n",
      "Input  E.g. 1, 2, -3, -4.5\n",
      "***RESULT: This Web page tests a Python service which takes a number and return its absolute value \n",
      "\n",
      "Url  E g  http localhost 4449 \n",
      "Input  E g  1  2  -3  -4 5\n"
     ]
    }
   ],
   "source": [
    "import requests\n",
    "from bs4 import BeautifulSoup as bs\n",
    "import re\n",
    "\n",
    "def Web2String(input):\n",
    "    print(\"***INPUT:\", input)\n",
    "\n",
    "    url = input\n",
    "    response = requests.get(url)\n",
    "    print(\"***RESPONSE:\", response)\n",
    "    soup = bs(response.text, \"html.parser\")\n",
    "    body = soup.find(\"body\").text.strip()\n",
    "    print(\"***BODY:\", body)\n",
    "    result_without_punctuation = re.sub(r\"(\\w+)([^\\w\\s]+)\", r\"\\1 \", body)\n",
    "    print(\"***RESULT:\", result_without_punctuation)\n",
    "\n",
    "    return\n",
    "\n",
    "Web2String(\"http://localhost:5000\")\n"
   ]
  }
 ],
 "metadata": {
  "kernelspec": {
   "display_name": ".venv",
   "language": "python",
   "name": "python3"
  },
  "language_info": {
   "codemirror_mode": {
    "name": "ipython",
    "version": 3
   },
   "file_extension": ".py",
   "mimetype": "text/x-python",
   "name": "python",
   "nbconvert_exporter": "python",
   "pygments_lexer": "ipython3",
   "version": "3.12.4"
  }
 },
 "nbformat": 4,
 "nbformat_minor": 2
}
