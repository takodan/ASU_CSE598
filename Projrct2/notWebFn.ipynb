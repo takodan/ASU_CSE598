{
 "cells": [
  {
   "cell_type": "code",
   "execution_count": 14,
   "metadata": {},
   "outputs": [
    {
     "name": "stdout",
     "output_type": "stream",
     "text": [
      "***INPUT: http://localhost:5000\n",
      "***RESPONSE: <Response [200]>\n",
      "***BODY: This Web page tests a Python service which takes a number and return its absolute value.\n",
      "\n",
      "Url  E.g. http://localhost:4449/\n",
      "Input  E.g. 1, 2, -3, -4.5\n",
      "***RESULT: This Web page tests a Python service which takes a number and return its absolute value Url  E.g. http://localhost:4449/\n",
      "Input  E.g. 1, 2, -3, -4.5\n"
     ]
    }
   ],
   "source": [
    "import requests\n",
    "from bs4 import BeautifulSoup as bs\n",
    "import re\n",
    "\n",
    "def Web2String(input):\n",
    "    print(\"***INPUT:\", input)\n",
    "\n",
    "    url = input\n",
    "    response = requests.get(url)\n",
    "    print(\"***RESPONSE:\", response)\n",
    "    soup = bs(response.text, \"html.parser\")\n",
    "    body = soup.find(\"body\").text.strip()\n",
    "    print(\"***BODY:\", body)\n",
    "    result_without_punctuation = re.sub(r'(\\b\\w{2,})([,.!?])\\s*', r'\\1 ', body)\n",
    "    print(\"***RESULT:\", result_without_punctuation)\n",
    "\n",
    "    return result_without_punctuation\n",
    "\n",
    "web_string = Web2String(\"http://localhost:5000\")\n"
   ]
  },
  {
   "cell_type": "code",
   "execution_count": 18,
   "metadata": {},
   "outputs": [
    {
     "name": "stdout",
     "output_type": "stream",
     "text": [
      "***INPUT: This Web page tests a Python service which takes a number and return its absolute value Url  E.g. http://localhost:4449/\n",
      "Input  E.g. 1, 2, -3, -4.5\n",
      "***NEW_STRING: Web page tests Python service takes number return absolute value Url E.g. http://localhost:4449/ Input E.g. 1, 2, -3, -4.5\n"
     ]
    }
   ],
   "source": [
    "def WordFilter(input):\n",
    "    stopWords = [\n",
    "    'i', 'me', 'my', 'myself', 'we', 'our', 'ours', 'ourselves', 'you',\n",
    "    \"you're\", \"you've\", \"you'll\", \"you'd\", 'your', 'yours', 'yourself',\n",
    "    'yourselves', 'he', 'him', 'his', 'himself', 'she', \"she's\", 'her',\n",
    "    'hers', 'herself', 'it', \"it's\", 'its', 'itself', 'they', 'them', 'their',\n",
    "    'theirs', 'themselves', 'what', 'which', 'who', 'whom', 'this', 'that',\n",
    "    \"that'll\", 'these', 'those', 'am', 'is', 'are', 'was', 'were', 'be',\n",
    "    'been', 'being', 'have', 'has', 'had', 'having', 'do', 'does', 'did',\n",
    "    'doing', 'a', 'an', 'the', 'and', 'but', 'if', 'or', 'because', 'as',\n",
    "    'until', 'while', 'of', 'at', 'by', 'for', 'with', 'about', 'against',\n",
    "    'between', 'into', 'through', 'during', 'before', 'after', 'above',\n",
    "    'below', 'to', 'from', 'up', 'down', 'in', 'out', 'on', 'off', 'over',\n",
    "    'under', 'again', 'further', 'then', 'once', 'here', 'there', 'when',\n",
    "    'where', 'why', 'how', 'all', 'any', 'both', 'each', 'few', 'more',\n",
    "    'most', 'other', 'some', 'such', 'no', 'nor', 'not', 'only', 'own',\n",
    "    'same', 'so', 'than', 'too', 'very', 's', 't', 'can', 'will', 'just',\n",
    "    'don', \"don't\", 'should', \"should've\", 'now', 'd', 'll', 'm', 'o', 're',\n",
    "    've', 'y', 'ain', 'aren', \"aren't\", 'couldn', \"couldn't\", 'didn',\n",
    "    \"didn't\", 'doesn', \"doesn't\", 'hadn', \"hadn't\", 'hasn', \"hasn't\", 'haven',\n",
    "    \"haven't\", 'isn', \"isn't\", 'ma', 'mightn', \"mightn't\", 'mustn', \"mustn't\",\n",
    "    'needn', \"needn't\", 'shan', \"shan't\", 'shouldn', \"shouldn't\", 'wasn',\n",
    "    \"wasn't\", 'weren', \"weren't\", 'won', \"won't\", 'wouldn', \"wouldn't\"\n",
    "    ]\n",
    "\n",
    "    print(\"***INPUT:\", input) # original string\n",
    "    original_string = input\n",
    "\n",
    "    words = original_string.split()\n",
    "\n",
    "    filtered_words = [word for word in words if word.lower() not in stopWords]\n",
    "\n",
    "    new_string = ' '.join(filtered_words)\n",
    "\n",
    "    print(\"***NEW_STRING:\", new_string)\n",
    "\n",
    "    return new_string\n",
    "\n",
    "filtered_string = WordFilter(web_string)"
   ]
  },
  {
   "cell_type": "code",
   "execution_count": 20,
   "metadata": {},
   "outputs": [
    {
     "name": "stdout",
     "output_type": "stream",
     "text": [
      "***INPUT: Web page tests Python service takes number return absolute value Url E.g. http://localhost:4449/ Input E.g. 1, 2, -3, -4.5\n",
      "***TOP_10: [('python', 6), ('e.g.', 2), ('web', 1), ('page', 1), ('tests', 1), ('service', 1), ('takes', 1), ('number', 1), ('return', 1), ('absolute', 1)]\n"
     ]
    }
   ],
   "source": [
    "def Top10Words(input):\n",
    "    print(\"***INPUT:\", input)\n",
    "    # input = input + \" python\"*5 # for testing\n",
    "\n",
    "    words = input.lower().split()\n",
    "    word_count = {}\n",
    "    for word in words:\n",
    "        word_count[word] = word_count.get(word, 0) + 1\n",
    "\n",
    "    top_10 = sorted(word_count.items(), key=lambda x: x[1], reverse=True)[:10]\n",
    "\n",
    "    print(\"***TOP_10:\", top_10)\n",
    "    \n",
    "    return top_10\n",
    "\n",
    "top10 = Top10Words(filtered_string)"
   ]
  }
 ],
 "metadata": {
  "kernelspec": {
   "display_name": ".venv",
   "language": "python",
   "name": "python3"
  },
  "language_info": {
   "codemirror_mode": {
    "name": "ipython",
    "version": 3
   },
   "file_extension": ".py",
   "mimetype": "text/x-python",
   "name": "python",
   "nbconvert_exporter": "python",
   "pygments_lexer": "ipython3",
   "version": "3.12.4"
  }
 },
 "nbformat": 4,
 "nbformat_minor": 2
}
