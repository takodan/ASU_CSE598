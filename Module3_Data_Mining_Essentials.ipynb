{
 "cells": [
  {
   "cell_type": "markdown",
   "metadata": {},
   "source": [
    "## Unit1 Lesson1 Data Model\n",
    "1. 大數據處裡的特性\n",
    "    1. Volume體量：PB以上\n",
    "    2. Velocity速度：實時數據實時響應\n",
    "    3. Variety多元性：多來源多語義多應用\n",
    "    4. Veracity真實性：真實數據多有噪聲\n",
    "    5. Variability多夠性：多數據結構\n",
    "    6. Volatility揮發性：並非所有數據都會永久保存\n",
    "    7. Value價值：極高價值\n",
    "2. 大數據挖掘結構：\n",
    "    1. 數據收集\n",
    "    2. 數據建模、處理、解析\n",
    "    3. 數據儲存管理\n",
    "    4. 數據與應用整合\n",
    "3. 大數據到決策流程\n",
    "    1. 數據收集\n",
    "    2. 預處理\n",
    "    3. 建模：發現知識，Knowledge in databases(KDD)\n",
    "    4. 整合：和過去知識庫整合\n",
    "    5. 處理：數據挖掘\n",
    "    6. 可視化\n",
    "    7. 決策\n",
    "4. KDD過程\n",
    "    1. 數據：提取目標數據\n",
    "    2. 目標數據：進行預處理\n",
    "    3. 預處理後數據\n",
    "    4. 轉換後的數據\n",
    "    5. 數據挖掘：找到模式\n",
    "    6. 解釋或評估成知識\n",
    "5. 數據挖掘\n",
    "    1. 從數據中發現隱藏的模式\n",
    "    2. 利用人工智能、機器學習、統計學、數據庫系統等方法\n",
    "    3. 數據庫系統通常是以已知條件查找並返回部分數據\n",
    "    4. 應用示例\n",
    "        1. 識別垃圾、詐騙\n",
    "        2. 發現頻繁的模式\n",
    "        3. 預測\n",
    "        4. 分群"
   ]
  },
  {
   "cell_type": "markdown",
   "metadata": {},
   "source": [
    "## Unit1 Lesson2 Data Representation\n",
    "1. 數據表達\n",
    "    1. 特性、屬性、度量：屬性值\n",
    "    2. 類：類標籤\n",
    "2. 數據類型\n",
    "    1. 以數據的性質：連續，離散\n",
    "    2. 以可操作方式：(scale of measure測量尺度)\n",
    "        1. 定類(名目)：相等\n",
    "        2. 定續(次序)：比大小\n",
    "        3. 定距(等距)：可加減\n",
    "        4. 比例(等比)：可乘除\n",
    "3. 文本表示\n",
    "    1. 最常見的方式是轉換為向量\n",
    "    2. 此表示稱為Bag of Words詞袋，向量空間模型\n",
    "    3. 詞的權重(出現平率)使用TF-IDF(Term Frequency-Inverse Document Frequency詞頻-逆向檔案頻率)表示\n",
    "        1. TF詞頻：在文檔i中j詞出現的平率(j出現次數/總共詞數)\n",
    "        2. IDF逆向檔案頻率：全部文檔/有出現j的文檔數量，再取log2\n",
    "        3. 相乘得出權重\n",
    "        4. 示例\n",
    "            1. 文檔d有100個詞\n",
    "            2. \"蘋果\"這個詞出現在文檔d中10次，TF=10/100=10\n",
    "            3. 總共有20個文檔\n",
    "            4. \"蘋果\"只出現在文檔d，IDF=lg(20/1)=4.3219\n",
    "            5. 權重w=10*4.3219=43.219\n",
    "4. 數據質量\n",
    "    1. 噪聲\n",
    "    2. 異常值\n",
    "    3. 缺失值\n",
    "    4. 重複數據\n",
    "5. 數據預處理\n",
    "    1. 聚合：合併屬性以降低維度\n",
    "    2. 離散化：連續改為離散\n",
    "    3. 特性選擇：選擇對類有影響的屬性\n",
    "    4. 特性提取：提取屬性以創造出新的屬性\n",
    "    5. 採樣：隨機採樣、分層採樣"
   ]
  },
  {
   "cell_type": "markdown",
   "metadata": {},
   "source": [
    "## Unit2 Lesson1 Classification Decision Tree\n",
    "1. 監督機器學習算法\n",
    "    1. 分類：離散\n",
    "    2. 回歸：連續\n",
    "2. 決策樹\n",
    "    1. 一個數據集可以有多個決策樹\n",
    "    2. 是自上而下的貪婪算法，每個節點即為意個屬性分支\n",
    "    3. 到達一個純子集則完成分類\n",
    "    4. 子集的商：-正實例/總實例log正實例/總實例-負實例/總實例log負實例/總實例\n"
   ]
  },
  {
   "cell_type": "markdown",
   "metadata": {},
   "source": [
    "## Unit2 Lesson2 Classification Bayes kNN\n",
    "1. 樸素貝葉斯：條件機率\n",
    "2. kNN k最近鄰分類器：最近的K個鄰居(相似性)內，和最多的鄰居同類"
   ]
  },
  {
   "cell_type": "markdown",
   "metadata": {},
   "source": [
    "## Unit2 Lesson3 Classification Network\n",
    "1. 利用網路訊息分類：加權投票近鄰\n",
    "    1. 鄰居權重和/鄰居數量\n",
    "    2. 如果有鄰居一開始是未知的，需不斷迭代直到穩定"
   ]
  },
  {
   "cell_type": "markdown",
   "metadata": {},
   "source": [
    "## Unit2 Lesson4 Regression\n",
    "1. 線性回歸\n",
    "2. 監督學習評估\n",
    "    1. 留一訓練：資料分成k分，k-1訓練，1/k測試\n",
    "    2. k折交叉驗證：資料分成k分，運行k次，每次選1/k測試，不重複"
   ]
  },
  {
   "cell_type": "markdown",
   "metadata": {},
   "source": [
    "## Unit3 Lesson1 Unsupervised Learning\n",
    "1. clustering聚類：cluster簇\n",
    "    1. 以歐氏距離將相近的分成一類\n",
    "    2. k均值算法\n",
    "        1. 設為k簇\n",
    "        2. 選擇k個數據作為質心\n",
    "        3. 按照分類玩的簇以均值重新分配質心\n",
    "        4. 重複直到質心收斂\n"
   ]
  },
  {
   "cell_type": "markdown",
   "metadata": {},
   "source": [
    "## Unit3 Lesson2 Unsupervised Learning Evaluation\n",
    "1. 不存在標準答案時的團簇評估\n",
    "    1. 內聚性\n",
    "        1. 所有點到該點簇的質心距離平方和\n",
    "    2. 離散性\n",
    "        1. 所有質心的質心距離平方和\n",
    "    3. 輪廓指數\n",
    "        1. a參數: 點到其他簇內點距離平方和\n",
    "        2. b參數：點到其他簇外點距離平方和\n",
    "        3. s參數：(a-b)/b\n",
    "        4. 輪廓：s參數的和/點數量"
   ]
  }
 ],
 "metadata": {
  "language_info": {
   "name": "python"
  }
 },
 "nbformat": 4,
 "nbformat_minor": 2
}
