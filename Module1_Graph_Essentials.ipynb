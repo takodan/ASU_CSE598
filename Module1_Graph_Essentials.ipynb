{
 "cells": [
  {
   "cell_type": "markdown",
   "metadata": {},
   "source": [
    "## Unit1 Lesson2 Graph Basics\n",
    "\n",
    "1. 圖是端點**nodes/actors/vertices(vertex)** 和邊**edges**/**ties** 的集合\n",
    "2. `V = {v1, v2,...,vn}`\n",
    "3. 圖的大小是節點數量`|V| = n`\n",
    "4. `E = {e1, e2,...,en}`\n",
    "5. 邊的數量`|E| = m`\n",
    "6. 邊可以有方向性，有方向性的邊有時稱作弧**arc**\n",
    "7. 邊可用端點來表示`e(v1,v2)`\n",
    "8. 和一個端點連接的端點稱為鄰域**neighborhood** ，表示為`N(v)`\n",
    "9. 一個端點的邊數量稱作度**degree** ，表示為`di`，一般等於鄰域的數量\n",
    "10. 有像圖會分為入度**in-degree** 和出度**out-degree**\n",
    "11. 無向圖中度數和為邊數的兩倍`∑di = 2|E|`\n",
    "12. 有向圖中入度和等於出度和\n",
    "13. 處理大圖時，度的分佈是一個重要的分析方向，稱作度分佈**degree distribution**\n",
    "14. 度序列**degree sequence** 是將度由大到小排列`π(d) = {d1, d2,... dn}`\n",
    "15. 度的權重表示\"有d個度的端點數\"`Pd = nd / n`\n",
    "16. 社交網路的度通常呈現冪律分布，也稱為冪律度分布**Power-law degree distribution**\n",
    "17. 冪律度分布是指有很多度很小的節點，而度很大的節點很少\n",
    "18. 圖的表示法`G(V,E)`，`V`是端點集，`E`是邊集\n",
    "19. 圖可以分為子圖`G'`，其中`v'`是`V`的子集，`E'`是`(V'xV')`和`E`交集的子集"
   ]
  },
  {
   "cell_type": "markdown",
   "metadata": {},
   "source": [
    "## Unit1 Lesson3 Graph Representation\n",
    "\n",
    "1. 圖形轉為計算機可儲存和操作的形式\n",
    "2. 鄰接矩陣**adjacency matrix/sociomatrix**\n",
    "    1. `Aji = {1, if there is an edge between nodes vi and vj}`\n",
    "    `= {0, otherwise}`\n",
    "    2. *參考：Lesson3 1:39*\n",
    "    3. 社交網路多為稀疏矩陣**sparse matrix**\n",
    "    4. *補充：轉置矩陣**transpose matrix**行列交換*\n",
    "3. 鄰接表**adjacency list**\n",
    "    1. 以表形式儲存，端點:相鄰端點\n",
    "    2. *參考：Lesson3 4:39*\n",
    "4. 邊列表**edge list**\n",
    "    1. 以端點紀錄每個邊，例如`(v1, v2)`\n",
    "    2. 但是沒有邊的端點可能被丟失\n",
    "    3. *參考：Lesson3 5:59*"
   ]
  },
  {
   "cell_type": "markdown",
   "metadata": {},
   "source": [
    "## Unit1 Lesson4 Types of Graphs\n",
    "1. 零圖**null graph**：沒有節點也沒有邊\n",
    "2. 空圖/無邊圖**empty graph/ edge-less graph**：有節點沒有邊\n",
    "3. 無向圖**undirected graph**：無向圖的鄰接矩陣是對稱的\n",
    "4. 有向圖**directed graph**：有向圖的鄰接矩陣可能是不對稱的\n",
    "5. 簡單圖**simple graph**：兩端點間只能有一條邊\n",
    "6. 多重圖**multigraphs**：兩端點可以多條邊，也可以有迴路 (向自己連接的邊)\n",
    "7. 加權圖**weighted graph**：邊上有實數表示權重描述端點關係\n",
    "8. 符號圖**signed graph**：邊上有符號 (多是+/-,0/1,-1/1) 描述端點關係\n",
    "9. 網路圖**webgraph**：\n",
    "    1. 用圖表示網路站點的關係\n",
    "    2. 多為多重圖，可以有環路"
   ]
  },
  {
   "cell_type": "markdown",
   "metadata": {},
   "source": [
    "##  Unit1 Lesson5 Connectivity in Graphs\n",
    "1. 相鄰\n",
    "    1. 兩個端點透過邊連接，兩個端點相鄰**adjacent**\n",
    "    2. 兩條邊共享同個端點，兩條邊相鄰**adjacent**\n",
    "    3. 有向圖必須可以遊走才是相鄰邊，例如：`(v2, v1), (v2, v3)`不相鄰\n",
    "2. 遊走**walk**：依序訪問相鄰邊\n",
    "    1. 開通路**open walk**：起點終點不同端點\n",
    "    2. 閉通路**closed walk**：起點終點同端點\n",
    "    3. 可以用端點或邊表示遊走\n",
    "    4. 遊走長度等於訪問邊數\n",
    "    5. 可以重複訪問邊\n",
    "3. 軌跡**trail**\n",
    "    1. *不*重複訪問邊的遊走\n",
    "    2. 可議重複訪問端點\n",
    "    3. 閉軌跡也稱為環路**tour/circuit**\n",
    "    4. 歐拉環路**Eulerian Tour**：訪問所有邊僅一次\n",
    "4. 路徑**path**\n",
    "    1. *不*重複訪問邊和端點的遊走\n",
    "    2. 閉路徑(只有起點和終點重複)也稱為回路**cycle**\n",
    "    3. 哈密頓回路**Hamiltonian Cycle**：訪問所有端點僅一次\n",
    "5. 隨機遊走**random walk**\n",
    "    1. 以權重表示訪問下一個端點的機率\n",
    "    2. `∑x Wi,x = 1`\n",
    "6. 連通性**connectivity**\n",
    "    1. 圖中任一節點和另議節點間有路徑相連，此圖稱為連通的**connected**\n",
    "    2. 有向圖中和需要*不*依照方向才有路徑稱為弱連通**weakly connected**，依照方向稱為強連通**strongly connected**\n",
    "    3. 不是連通即為非連通**disconnected**\n",
    "7. 組件**component**\n",
    "    1. 無向圖的連通子圖稱為組件**component**\n",
    "    2. 有向圖也分為弱連通**weakly connected**組件和強連通**strongly connected**組件\n",
    "    3. 有向圖的組件可能較複雜，*參考 Lesson4 12:00*\n",
    "8. 最短路徑**shortest path**\n",
    "    1. 兩端點間最短路徑\n",
    "    2. `li,j`\n",
    "    3. 可以和端點鄰域的概念做結合，n跳鄰域**n-hop neighborhood**表示n距離內的端點\n",
    "9. 圖的直徑**diameter**\n",
    "    1. 一個圖內最長的最短路徑\n",
    "10. 鄰接矩陣和連通性**adjacency matrix and connectivity**\n"
   ]
  },
  {
   "cell_type": "markdown",
   "metadata": {},
   "source": [
    "##  Unit1 Lesson5 Special Graphs\n",
    "1. Trees\n",
    "    1. no cycle in a tree\n",
    "    2. 兩端點間只會有一條邊\n",
    "    3. `|V| = |E| + 1`\n",
    "    4. a set of trees is call a forest"
   ]
  }
 ],
 "metadata": {
  "language_info": {
   "name": "python"
  }
 },
 "nbformat": 4,
 "nbformat_minor": 2
}
