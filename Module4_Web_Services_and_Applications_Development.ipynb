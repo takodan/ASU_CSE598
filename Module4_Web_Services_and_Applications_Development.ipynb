{
 "cells": [
  {
   "cell_type": "markdown",
   "metadata": {},
   "source": [
    "## M4U1L1 Service Oriented Computing\n",
    "\n",
    "1. 服務定義\n",
    "    1. 生產者和使用者之間的接口\n",
    "    2. 服務提供者的角度：特定功能模快，是活性(持續運行)的對象\n",
    "    3. 服務使用者角度：服務使用者不是終端用戶，而是開發者\n",
    "    4. 服務通常提供API，而非直接對終端用戶的接口\n",
    "    5. 圖形介面通常才會是對終端用戶的接口\n",
    "    6. web服務分成：\n",
    "        1. SOAP/WSDL：重型服務\n",
    "        2. RESTful：輕型服務，微服務\n",
    "2. SOA面向服務架構：由服務組成的軟件，藉由API相互通信，有時也會使用SOC面向服務計算代稱\n"
   ]
  },
  {
   "cell_type": "markdown",
   "metadata": {},
   "source": [
    "## M4U1L2 Three Party Model\n",
    "\n",
    "1. 服務提供者：建構活性對象，發布到代理註冊\n",
    "    1. SOAP/WSDL服務：使用WSDL文件格式作為接口，使用SOAP協議\n",
    "    2. RESTful服務：使用HTTP協議\n",
    "2. 服務代理：保管服務註冊表，給使用者查找\n",
    "    1. 方便服務自動發布，自動發現\n",
    "    2. 常見代理類型：UDDI、ebXML\n",
    "3. 服務使用者：應用程序使用服務，向提供者調用\n"
   ]
  },
  {
   "cell_type": "markdown",
   "metadata": {},
   "source": [
    "## M4U2L1 WSDL Service Development\n",
    "\n",
    "1. WSDL服務\n",
    "    1. 是XML結構\n",
    "    2. 包含\n",
    "        1. A地址：在哪裡，服務端口網址\n",
    "        2. B綁定：怎麼作，傳輸協議\n",
    "        3. C合同：做什麼，portType、操作名稱、輸入值、輸入類型、返回值、返回類型\n",
    "2. Visual Studio WCF 建立服務\n",
    "    1. 安裝\n",
    "        1. 工作負載\n",
    "            1. ASP.NET與網頁程式開發\n",
    "            2. Python開發\n",
    "            3. .Net桌面開發\n",
    "            4. Net Mult-Platform App UI開發\n",
    "        2. 個別元件：\n",
    "            1. Windows Communication Foundation\n",
    "    2. 創建項目\n",
    "        1. WCF Service Application\n",
    "        2. name: WcfService1\n",
    "    3. 項目文件\n",
    "        1. IService1.cs：在`[OperationContract]`底下定義class\n",
    "        2. Service1.svc.cs：撰寫實際class程式碼\n"
   ]
  },
  {
   "cell_type": "markdown",
   "metadata": {},
   "source": [
    "## M4U2L2 WSDL Service Consumption\n",
    "\n",
    "1. Visual Studio WCF 使用(調用)服務\n",
    "    1. 創建項目\n",
    "        1. ASP.NET Web Application (.Net Framework)\n",
    "        2. name: TestThree\n",
    "        3. 選擇模板\n",
    "            1. Empty\n",
    "            2. Web Forms：提供一些基礎處功能，如帳號管理\n",
    "        4. 建立網頁\n",
    "            1. Add > New Item > Web > Web Form\n",
    "            2. 會建立一個aspx檔\n",
    "            3. 打開aspx後可以點擊Design頁面，再使用檢視 > 工具箱進行簡單的GUI編輯\n",
    "            4. "
   ]
  }
 ],
 "metadata": {
  "language_info": {
   "name": "python"
  }
 },
 "nbformat": 4,
 "nbformat_minor": 2
}
